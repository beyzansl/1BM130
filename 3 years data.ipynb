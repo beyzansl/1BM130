{
 "cells": [
  {
   "cell_type": "code",
   "execution_count": 1,
   "id": "a42af893",
   "metadata": {},
   "outputs": [],
   "source": [
    "import numpy as np\n",
    "import pandas as pd\n",
    "import matplotlib.pyplot as plt"
   ]
  },
  {
   "cell_type": "markdown",
   "id": "229c284a",
   "metadata": {},
   "source": [
    "# Merging dataframes"
   ]
  },
  {
   "cell_type": "markdown",
   "id": "b8bc28e4",
   "metadata": {},
   "source": [
    "First import all the different csv files as dataframes"
   ]
  },
  {
   "cell_type": "code",
   "execution_count": 2,
   "id": "93fa7ffb",
   "metadata": {},
   "outputs": [
    {
     "name": "stderr",
     "output_type": "stream",
     "text": [
      "C:\\Users\\20192513\\AppData\\Local\\Temp\\ipykernel_1908\\163414716.py:6: DtypeWarning: Columns (15) have mixed types. Specify dtype option on import or set low_memory=False.\n",
      "  lots = pd.read_csv('tba_lots_3_years.csv')\n"
     ]
    }
   ],
   "source": [
    "auctions = pd.read_csv('tba_auctions_3_years.csv')\n",
    "bids = pd.read_csv('tba_bids_3_years.csv')\n",
    "buyer_set = pd.read_csv('tba_buyer_settings_3_years.csv')\n",
    "buyers = pd.read_csv('tba_buyers_3_years.csv')\n",
    "category = pd.read_csv('tba_category_3_years.csv')\n",
    "lots = pd.read_csv('tba_lots_3_years.csv')"
   ]
  },
  {
   "cell_type": "markdown",
   "id": "88de5c8e",
   "metadata": {},
   "source": [
    "Create a big dataframe where the lots and auction dataframe are combined"
   ]
  },
  {
   "cell_type": "code",
   "execution_count": 3,
   "id": "7864cdbf",
   "metadata": {},
   "outputs": [],
   "source": [
    "merge_cat = pd.merge(category,lots,on='category_id',how='inner')\n",
    "lots_auc = pd.merge(merge_cat,auctions,on='auction_id',how='inner')"
   ]
  },
  {
   "cell_type": "markdown",
   "id": "9009ff39",
   "metadata": {},
   "source": [
    "Create a big dataframe for the bids and the buyer information"
   ]
  },
  {
   "cell_type": "code",
   "execution_count": 4,
   "id": "7d8f5312",
   "metadata": {},
   "outputs": [],
   "source": [
    "merge_buy = pd.merge(buyer_set,buyers,on='fake_buyer_id',how='inner')\n",
    "buy_bid = pd.merge(merge_buy,bids,on='fake_buyer_id',how='inner')"
   ]
  },
  {
   "cell_type": "markdown",
   "id": "bf6df2af",
   "metadata": {},
   "source": [
    "This results in two big dataframes: lots_auc and buy_bid"
   ]
  },
  {
   "cell_type": "code",
   "execution_count": 5,
   "id": "0272dc94",
   "metadata": {},
   "outputs": [
    {
     "name": "stdout",
     "output_type": "stream",
     "text": [
      "<class 'pandas.core.frame.DataFrame'>\n",
      "RangeIndex: 5007339 entries, 0 to 5007338\n",
      "Data columns (total 30 columns):\n",
      " #   Column                    Dtype  \n",
      "---  ------                    -----  \n",
      " 0   category_id               int64  \n",
      " 1   category_level_1          object \n",
      " 2   category_level_2          object \n",
      " 3   category_level_3          object \n",
      " 4   lot_id                    object \n",
      " 5   auction_id                float64\n",
      " 6   auction_start_time        object \n",
      " 7   auction_close_time        object \n",
      " 8   lot_close_time_actual     object \n",
      " 9   estimated_price           float64\n",
      " 10  starting_price            float64\n",
      " 11  is_delivery               int64  \n",
      " 12  auction_country           object \n",
      " 13  lot_quantity              float64\n",
      " 14  lot_title                 object \n",
      " 15  lot_description           object \n",
      " 16  appearance                object \n",
      " 17  condition                 object \n",
      " 18  packaging                 object \n",
      " 19  assigned_explicitly       object \n",
      " 20  is_offered                int64  \n",
      " 21  is_sold                   int64  \n",
      " 22  platform                  object \n",
      " 23  has_bids                  int64  \n",
      " 24  nr_bids                   float64\n",
      " 25  highest_valid_bid_amount  float64\n",
      " 26  nr_valid_bid_users        float64\n",
      " 27  auction_name              object \n",
      " 28  number_of_lots            float64\n",
      " 29  needs_delivery            float64\n",
      "dtypes: float64(9), int64(5), object(16)\n",
      "memory usage: 1.1+ GB\n"
     ]
    },
    {
     "data": {
      "text/plain": [
       "5007339"
      ]
     },
     "execution_count": 5,
     "metadata": {},
     "output_type": "execute_result"
    }
   ],
   "source": [
    "lots_auc.info()\n",
    "len(lots_auc)"
   ]
  },
  {
   "cell_type": "code",
   "execution_count": 6,
   "id": "5640dc70",
   "metadata": {},
   "outputs": [
    {
     "name": "stdout",
     "output_type": "stream",
     "text": [
      "<class 'pandas.core.frame.DataFrame'>\n",
      "RangeIndex: 25265755 entries, 0 to 25265754\n",
      "Data columns (total 19 columns):\n",
      " #   Column                            Dtype  \n",
      "---  ------                            -----  \n",
      " 0   notify_by_email                   object \n",
      " 1   notify_by_push                    object \n",
      " 2   notify_by_sms                     object \n",
      " 3   enable_one_click_bidding          bool   \n",
      " 4   enable_one_click_reverse_bidding  bool   \n",
      " 5   open_close_notifications          bool   \n",
      " 6   open_close_notification_time      int64  \n",
      " 7   subscribe_on_newsletter           bool   \n",
      " 8   fake_buyer_id                     int64  \n",
      " 9   is_company                        bool   \n",
      " 10  created_at                        object \n",
      " 11  updated_at                        object \n",
      " 12  is_blocked                        bool   \n",
      " 13  country                           object \n",
      " 14  lot_id                            object \n",
      " 15  id                                object \n",
      " 16  amount_in_euro                    float64\n",
      " 17  bid_datetime                      object \n",
      " 18  is_autobid                        int64  \n",
      "dtypes: bool(6), float64(1), int64(3), object(9)\n",
      "memory usage: 2.6+ GB\n"
     ]
    }
   ],
   "source": [
    "buy_bid.info()"
   ]
  },
  {
   "cell_type": "markdown",
   "id": "24ad667b",
   "metadata": {},
   "source": [
    "# Cleaning Data"
   ]
  },
  {
   "cell_type": "markdown",
   "id": "9ba780b6",
   "metadata": {},
   "source": [
    "We start with cleaning the data of the Lots_auc dataframe. This dataframe seems most important for our research topic: Auction performance.\n",
    "\n",
    "First remove all the rows that have a NaN value for important columns"
   ]
  },
  {
   "cell_type": "code",
   "execution_count": 7,
   "id": "a5fca787",
   "metadata": {},
   "outputs": [],
   "source": [
    "lots_auc = lots_auc.dropna(subset=['lot_quantity', 'estimated_price', 'nr_bids','highest_valid_bid_amount','nr_valid_bid_users','is_sold'])"
   ]
  },
  {
   "cell_type": "markdown",
   "id": "55bbe321",
   "metadata": {},
   "source": [
    "Since we have a dataset considering the data of 3-years we decided to delete the lots with an estimated price of 0 or less than 0. "
   ]
  },
  {
   "cell_type": "code",
   "execution_count": 8,
   "id": "585f966b",
   "metadata": {},
   "outputs": [],
   "source": [
    "lots_auc.drop(lots_auc[lots_auc['estimated_price']<=0].index, inplace=True)"
   ]
  },
  {
   "cell_type": "markdown",
   "id": "442f2a28",
   "metadata": {},
   "source": [
    "Than we delete all the lots where the starting price is higher than the estimated price"
   ]
  },
  {
   "cell_type": "code",
   "execution_count": 9,
   "id": "80f312bf",
   "metadata": {},
   "outputs": [],
   "source": [
    "lots_auc = lots_auc[lots_auc['starting_price']<=lots_auc['estimated_price']]"
   ]
  },
  {
   "cell_type": "markdown",
   "id": "340a36c7",
   "metadata": {},
   "source": [
    "Than we filtered the dataframe to discard data above the 95th percentile of lot quantity"
   ]
  },
  {
   "cell_type": "code",
   "execution_count": 14,
   "id": "2dd4f525",
   "metadata": {},
   "outputs": [],
   "source": [
    "percentile_95 = lots_auc['lot_quantity'].quantile(0.95)\n",
    "lots_auc = lots_auc[lots_auc['lot_quantity']<= percentile_95]"
   ]
  },
  {
   "cell_type": "code",
   "execution_count": null,
   "id": "887c14ef",
   "metadata": {},
   "outputs": [],
   "source": []
  }
 ],
 "metadata": {
  "kernelspec": {
   "display_name": "Python 3 (ipykernel)",
   "language": "python",
   "name": "python3"
  },
  "language_info": {
   "codemirror_mode": {
    "name": "ipython",
    "version": 3
   },
   "file_extension": ".py",
   "mimetype": "text/x-python",
   "name": "python",
   "nbconvert_exporter": "python",
   "pygments_lexer": "ipython3",
   "version": "3.11.5"
  }
 },
 "nbformat": 4,
 "nbformat_minor": 5
}
